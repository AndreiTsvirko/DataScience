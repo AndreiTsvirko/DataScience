{
  "nbformat": 4,
  "nbformat_minor": 0,
  "metadata": {
    "colab": {
      "provenance": [],
      "toc_visible": true,
      "authorship_tag": "ABX9TyMx/ClLleF5EAg29vuCjYUG",
      "include_colab_link": true
    },
    "kernelspec": {
      "name": "python3",
      "display_name": "Python 3"
    },
    "language_info": {
      "name": "python"
    }
  },
  "cells": [
    {
      "cell_type": "markdown",
      "metadata": {
        "id": "view-in-github",
        "colab_type": "text"
      },
      "source": [
        "<a href=\"https://colab.research.google.com/github/AndreiTsvirko/DataScience/blob/main/HW_1.ipynb\" target=\"_parent\"><img src=\"https://colab.research.google.com/assets/colab-badge.svg\" alt=\"Open In Colab\"/></a>"
      ]
    },
    {
      "cell_type": "code",
      "execution_count": 9,
      "metadata": {
        "colab": {
          "base_uri": "https://localhost:8080/"
        },
        "id": "om11Mr-r1Abo",
        "outputId": "eed5cbad-a035-429c-cee1-e9dd80ad9038"
      },
      "outputs": [
        {
          "output_type": "stream",
          "name": "stdout",
          "text": [
            "Предметы студента: Высшая математика,Философия,Программирование,Физика,Физкультура .\n"
          ]
        }
      ],
      "source": [
        "# Сам словарь\n",
        "student = {\n",
        "    'имя': 'Андрей',\n",
        "    'возраст': '19',\n",
        "    'курс': '3',\n",
        "    'предметы': ['Высшая математика','Философия','Программирование','Физика','Физкультура']\n",
        "}\n",
        "# Вывод всех предметов через запятую\n",
        "print(\"Предметы студента:\", \",\".join(student['предметы']),\".\")"
      ]
    }
  ]
}