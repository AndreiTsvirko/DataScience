{
  "nbformat": 4,
  "nbformat_minor": 0,
  "metadata": {
    "colab": {
      "provenance": [],
      "authorship_tag": "ABX9TyNo9RWexOp4WiQY3YYgS48O",
      "include_colab_link": true
    },
    "kernelspec": {
      "name": "python3",
      "display_name": "Python 3"
    },
    "language_info": {
      "name": "python"
    }
  },
  "cells": [
    {
      "cell_type": "markdown",
      "metadata": {
        "id": "view-in-github",
        "colab_type": "text"
      },
      "source": [
        "<a href=\"https://colab.research.google.com/github/AndreiTsvirko/DataScience/blob/main/HW3/HW3.ipynb\" target=\"_parent\"><img src=\"https://colab.research.google.com/assets/colab-badge.svg\" alt=\"Open In Colab\"/></a>"
      ]
    },
    {
      "cell_type": "markdown",
      "source": [
        "#Создание БД и таблицы"
      ],
      "metadata": {
        "id": "EdSUaZEWpteD"
      }
    },
    {
      "cell_type": "code",
      "execution_count": 3,
      "metadata": {
        "id": "fyBUMo6ipkvX"
      },
      "outputs": [],
      "source": [
        "import psycopg2\n",
        "from psycopg2 import sql\n",
        "#Создаем БД в PG и подключимся к autompg_db\n",
        "def create_database():\n",
        "    try:\n",
        "        # Подключаемся к стандартной базе данных для создания новой\n",
        "        conn = psycopg2.connect(\n",
        "            host=\"localhost\",\n",
        "            database=\"postgres\",\n",
        "            user=\"postgres\",\n",
        "            password=\"12345678\"  # пароль\n",
        "        )\n",
        "        conn.autocommit = True\n",
        "        cursor = conn.cursor()\n",
        "\n",
        "        # Создаем новую базу данных\n",
        "        cursor.execute(\"CREATE DATABASE autompg_db\")\n",
        "        print(\" База данных autompg_db создана успешно!\")\n",
        "\n",
        "        cursor.close()\n",
        "        conn.close()\n",
        "\n",
        "    except Exception as e:\n",
        "        print(f\" Ошибка при создании базы данных: {e}\")\n",
        "#Создадим таблицу с разными типами данных\n",
        "def create_table():\n",
        "    try:\n",
        "        # Подключаемся к созданной БД\n",
        "        conn = psycopg2.connect(\n",
        "            host=\"localhost\",\n",
        "            database=\"autompg_db\",\n",
        "            user=\"postgres\",\n",
        "            password=\"12345678\"\n",
        "        )\n",
        "        cursor = conn.cursor()\n",
        "\n",
        "        # SQL-запрос для создания таблицы с требуемыми типами данных\n",
        "        create_table_query = \"\"\"\n",
        "        CREATE TABLE IF NOT EXISTS automobiles (\n",
        "            id SERIAL PRIMARY KEY,                    -- Уникальный идентификатор\n",
        "            mpg NUMERIC,                             -- Расход топлива (числовой)\n",
        "            cylinders INTEGER,                       -- Количество цилиндров (целое)\n",
        "            displacement NUMERIC,                    -- Объем двигателя (числовой)\n",
        "            horsepower NUMERIC,                      -- Мощность (числовая)\n",
        "            weight NUMERIC,                          -- Вес (числовой)\n",
        "            acceleration NUMERIC,                    -- Ускорение (числовое)\n",
        "            model_year INTEGER,                      -- Год модели (целое)\n",
        "            origin TEXT,                             -- Страна происхождения (текст)\n",
        "            car_name TEXT,                           -- Название автомобиля (текст)\n",
        "            manufacture_date DATE                    -- Дата производства (дата)\n",
        "        )\n",
        "        \"\"\"\n",
        "\n",
        "        cursor.execute(create_table_query)\n",
        "        conn.commit()\n",
        "        print(\" Таблица automobiles создана успешно.\")\n",
        "\n",
        "        cursor.close()\n",
        "        conn.close()\n",
        "\n",
        "    except Exception as e:\n",
        "        print(f\" Ошибка при создании таблицы: {e}\")"
      ]
    },
    {
      "cell_type": "markdown",
      "source": [
        "#Имортируем данные"
      ],
      "metadata": {
        "id": "ZaLOxzaUrtwL"
      }
    },
    {
      "cell_type": "code",
      "source": [
        "import pandas as pd\n",
        "import psycopg2\n",
        "# Загрузим наш датасет auoMPG\n",
        "def download_and_prepare_data():\n",
        "    # URL датасета autoMPG\n",
        "    url = \"https://archive.ics.uci.edu/ml/machine-learning-databases/auto-mpg/auto-mpg.data\"\n",
        "\n",
        "    # Названия столбцов согласно документации датасета\n",
        "    column_names = ['mpg', 'cylinders', 'displacement', 'horsepower', 'weight',\n",
        "                    'acceleration', 'model_year', 'origin', 'car_name']\n",
        "\n",
        "    # Чтение данных из файла (разделитель - пробелы)\n",
        "    df = pd.read_csv(url, delim_whitespace=True, names=column_names, na_values='?')\n",
        "\n",
        "    # Добавляем столбец с датой производства (для демонстрации типа DATE)\n",
        "    df['manufacture_date'] = pd.to_datetime(f'19{df[\"model_year\"]}-01-01')\n",
        "\n",
        "    # Преобразуем числовые коды стран в текстовые названия\n",
        "    df['origin'] = df['origin'].map({1: 'USA', 2: 'Europe', 3: 'Japan'})\n",
        "\n",
        "    # Удаляем строки с пропущенными значениями\n",
        "    df = df.dropna()\n",
        "\n",
        "    print(f\"📊 Данные загружены: {df.shape[0]} строк, {df.shape[1]} столбцов\")\n",
        "    return df\n",
        "# Вставляем выбранные данные из датасета в БД\n",
        "def import_to_database(df):\n",
        "    try:\n",
        "        conn = psycopg2.connect(\n",
        "            host=\"localhost\",\n",
        "            database=\"autompg_db\",\n",
        "            user=\"postgres\",\n",
        "            password=\"12345678\"\n",
        "        )\n",
        "        cursor = conn.cursor()\n",
        "\n",
        "        # Вставляем данные построчно\n",
        "        for index, row in df.iterrows():\n",
        "            insert_query = \"\"\"\n",
        "            INSERT INTO automobiles\n",
        "            (mpg, cylinders, displacement, horsepower, weight, acceleration,\n",
        "             model_year, origin, car_name, manufacture_date)\n",
        "            VALUES (%s, %s, %s, %s, %s, %s, %s, %s, %s, %s)\n",
        "            \"\"\"\n",
        "\n",
        "            # Выполняем запрос с параметрами\n",
        "            cursor.execute(insert_query, (\n",
        "                row['mpg'], row['cylinders'], row['displacement'],\n",
        "                row['horsepower'], row['weight'], row['acceleration'],\n",
        "                row['model_year'], row['origin'], row['car_name'],\n",
        "                row['manufacture_date']\n",
        "            ))\n",
        "\n",
        "        # Фиксируем изменения в базе данных\n",
        "        conn.commit()\n",
        "        print(f\" Данные успешно импортированы в БД. ({len(df)} записей)\")\n",
        "\n",
        "        cursor.close()\n",
        "        conn.close()\n",
        "\n",
        "    except Exception as e:\n",
        "        print(f\" Ошибка при импорте данных: {e}\")"
      ],
      "metadata": {
        "id": "5LeAZZnPrxG5"
      },
      "execution_count": null,
      "outputs": []
    }
  ]
}